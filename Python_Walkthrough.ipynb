{
  "cells": [
    {
      "cell_type": "markdown",
      "metadata": {
        "id": "h0g6WZFXWne7"
      },
      "source": [
        "## Basics of Python Programming"
      ]
    },
    {
      "cell_type": "markdown",
      "metadata": {
        "id": "bMmRrskEcZ1H"
      },
      "source": [
        "### Importing Libraries"
      ]
    },
    {
      "cell_type": "code",
      "execution_count": 4,
      "metadata": {
        "id": "ai1Kx7xzcctT"
      },
      "outputs": [],
      "source": [
        "import time\n",
        "# for libraries you might not have, install first using pip"
      ]
    },
    {
      "cell_type": "markdown",
      "metadata": {
        "id": "OEsBn7jwXkQx"
      },
      "source": [
        "### Input and Output"
      ]
    },
    {
      "cell_type": "code",
      "execution_count": 5,
      "metadata": {
        "colab": {
          "base_uri": "https://localhost:8080/"
        },
        "id": "TbNZIQUYXpbj",
        "outputId": "0def4203-4251-498e-93da-b889422b8a28"
      },
      "outputs": [
        {
          "name": "stdout",
          "output_type": "stream",
          "text": [
            "This is BBT 3201\n",
            "Local time: Tue Sep  2 20:12:58 2025\n"
          ]
        }
      ],
      "source": [
        "print(\"This is BBT 3201\")\n",
        "\n",
        "print(\"Local time:\", time.ctime()) # print current time from time library function ctime()"
      ]
    },
    {
      "cell_type": "code",
      "execution_count": null,
      "metadata": {
        "id": "at6osNfBXtL6"
      },
      "outputs": [],
      "source": [
        "name = str(input(\"Enter your name: \"))\n",
        "age = int(input(\"Enter your age: \")) # this is typecasting - enforcing a variable to be of a particular data type\n",
        "print(\"Name:\\t\", name)\n",
        "print(\"Age:\\t\", age)"
      ]
    },
    {
      "cell_type": "markdown",
      "metadata": {
        "id": "xjoaIuKoYVgP"
      },
      "source": [
        "### Conditional Structures"
      ]
    },
    {
      "cell_type": "code",
      "execution_count": null,
      "metadata": {
        "colab": {
          "base_uri": "https://localhost:8080/",
          "height": 124
        },
        "id": "AJlgkr3dYkTA",
        "outputId": "c459c2ae-2dcc-4ca0-c815-518e8757b1a4"
      },
      "outputs": [
        {
          "name": "stdout",
          "output_type": "stream",
          "text": [
            "Good night!\n"
          ]
        }
      ],
      "source": [
        "hour = int(input(\"Enter an hour of the day in 24h time: \"))\n",
        "if 6 <= hour < 12:\n",
        "  print(\"Good morning!\") # there is an Error in this line: it should only run within this condition and not part of the main code; resolve it before running - error was lack of indentation\n",
        "elif 12 <= hour < 17:\n",
        "  print(\"Good afternoon!\")\n",
        "elif 17 <= hour < 20:\n",
        "  print(\"Good evening!\")\n",
        "else:\n",
        "  print(\"Good night!\")\n"
      ]
    },
    {
      "cell_type": "markdown",
      "metadata": {
        "id": "8pef_rm6aJzT"
      },
      "source": [
        "### Iterative Structures"
      ]
    },
    {
      "cell_type": "code",
      "execution_count": null,
      "metadata": {
        "colab": {
          "base_uri": "https://localhost:8080/"
        },
        "id": "L8LlTWrxaI8l",
        "outputId": "23539c90-cc00-4e3d-c881-cd83c32601c9"
      },
      "outputs": [],
      "source": [
        "birthday = int(input(\"Enter the age you are turning this year: \"))\n",
        "x = 1\n",
        "while x <= birthday:\n",
        "  print(\"Happy birthday!\")\n",
        "  x+=1"
      ]
    },
    {
      "cell_type": "code",
      "execution_count": null,
      "metadata": {
        "colab": {
          "base_uri": "https://localhost:8080/"
        },
        "id": "zVw8HHj0ar93",
        "outputId": "eee12bf2-db96-4a53-d556-b83b4ff036cf"
      },
      "outputs": [],
      "source": [
        "# note how variables in colab can be reused throughout the document.\n",
        "for x in range(0, birthday, 1):\n",
        "  print(\"Happy birthday!\")"
      ]
    },
    {
      "cell_type": "markdown",
      "metadata": {
        "id": "g9iFZ2ENbDMD"
      },
      "source": [
        "### Functions"
      ]
    },
    {
      "cell_type": "code",
      "execution_count": 2,
      "metadata": {
        "id": "4eay5JHSbCly"
      },
      "outputs": [
        {
          "name": "stdout",
          "output_type": "stream",
          "text": [
            "Have a great day! :D\n"
          ]
        }
      ],
      "source": [
        "def compliment(choice):\n",
        "  if choice == 1:\n",
        "    print(\"You're doing great! :)\")\n",
        "  else:\n",
        "    print(\"Have a great day! :D\")\n",
        "\n",
        "option = int(input(\"Enter any number: \"))\n",
        "compliment(option)"
      ]
    },
    {
      "cell_type": "markdown",
      "metadata": {
        "id": "ju77YSKfbmd5"
      },
      "source": [
        "### Arrays"
      ]
    },
    {
      "cell_type": "code",
      "execution_count": 8,
      "metadata": {
        "colab": {
          "base_uri": "https://localhost:8080/"
        },
        "id": "uFEomwwqbn6x",
        "outputId": "4b6d409e-3377-4279-feff-82298895a53a"
      },
      "outputs": [
        {
          "name": "stdout",
          "output_type": "stream",
          "text": [
            "Mombasa Road\n",
            "['Mombasa Road', 'Thika Superhighway', 'Jogoo Road']\n",
            "Number of roads:  3\n"
          ]
        }
      ],
      "source": [
        "nbo_roads = [\"Mombasa Road\", \"Thika Superhighway\"]\n",
        "print(nbo_roads[0])\n",
        "\n",
        "nbo_roads.append(\"Jogoo Road\")\n",
        "print(nbo_roads)\n",
        "\n",
        "print(\"Number of roads: \", len(nbo_roads))"
      ]
    }
  ],
  "metadata": {
    "colab": {
      "provenance": []
    },
    "kernelspec": {
      "display_name": "Python 3",
      "name": "python3"
    },
    "language_info": {
      "codemirror_mode": {
        "name": "ipython",
        "version": 3
      },
      "file_extension": ".py",
      "mimetype": "text/x-python",
      "name": "python",
      "nbconvert_exporter": "python",
      "pygments_lexer": "ipython3",
      "version": "3.11.9"
    }
  },
  "nbformat": 4,
  "nbformat_minor": 0
}
