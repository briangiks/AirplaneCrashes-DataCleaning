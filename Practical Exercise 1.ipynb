{
 "cells": [
  {
   "cell_type": "code",
   "execution_count": null,
   "id": "2e8707a1",
   "metadata": {},
   "outputs": [],
   "source": [
    "#Q1 Write a program that asks the user for a number of days.\n",
    "#  The program then prints out the number of seconds in the amount of days given.\n",
    "days = int(input(\"Enter number of days \"))\n",
    "seconds = days * 24 * 60 * 60\n",
    "print(f\"{days} Days = {seconds} Seconds\")"
   ]
  },
  {
   "cell_type": "code",
   "execution_count": null,
   "id": "372440c7",
   "metadata": {},
   "outputs": [],
   "source": [
    "#Q2 Write a program that asks a user to input the radius then \n",
    "# the program calculates the volume of a sphere (the formula for the volume is (4/3)πr3). \n",
    "# Use the exponential operator in python to compute (r3).\n",
    "import math\n",
    "\n",
    "radius = float(input(\"Enter the radius of the sphere: \"))\n",
    "volume = (4/3) * 3.142 * (radius ** 3)\n",
    "print(f\"The volume of the sphere is {volume:.3f}\")\n"
   ]
  },
  {
   "cell_type": "code",
   "execution_count": null,
   "id": "c5719a3a",
   "metadata": {},
   "outputs": [],
   "source": [
    "#Q3 Using functions, write a program to compute the area and perimeter of a square. \n",
    "# The program should ask the user to enter a number corresponding to the \n",
    "# side length of the square and display the area and perimeter of the square.\n",
    "def area(side):\n",
    "    return side ** 2\n",
    "\n",
    "def perimeter(side):\n",
    "    return 4 * side\n",
    "\n",
    "side = float(input(\"Enter the side length of the Square = \"))\n",
    "print(f\"Area of Square = {area(side)}\")\n",
    "print(f\"Perimeter of Square = {perimeter(side)}\")\n"
   ]
  },
  {
   "cell_type": "code",
   "execution_count": 2,
   "id": "16eac58e",
   "metadata": {},
   "outputs": [
    {
     "name": "stdout",
     "output_type": "stream",
     "text": [
      "The character 'A' is Uppercase\n"
     ]
    }
   ],
   "source": [
    "# Q4: Write a program using functions that determines whether\n",
    "#  a character input by a user is uppercase or lower case.\n",
    "\n",
    "def check_case(char):\n",
    "    if char.isupper():\n",
    "        return \"Uppercase\"\n",
    "    elif char.islower():\n",
    "        return \"Lowercase\"\n",
    "    else:\n",
    "        return \"Not a letter\"\n",
    "\n",
    "char = input(\"Enter a single character: \")\n",
    "print(f\"The character '{char}' is {check_case(char)}\")\n"
   ]
  },
  {
   "cell_type": "code",
   "execution_count": 3,
   "id": "98c71730",
   "metadata": {},
   "outputs": [
    {
     "name": "stdout",
     "output_type": "stream",
     "text": [
      "Final value of x: 1.0416666666666665\n"
     ]
    }
   ],
   "source": [
    "# Q5: \n",
    "\n",
    "x = 0\n",
    "y = 20\n",
    "\n",
    "while y >= 6:\n",
    "    y = y - 4\n",
    "    x = x + (2 / y)\n",
    "\n",
    "print(\"Final value of x:\", x)\n"
   ]
  },
  {
   "cell_type": "code",
   "execution_count": 4,
   "id": "4de7c194",
   "metadata": {},
   "outputs": [
    {
     "name": "stdout",
     "output_type": "stream",
     "text": [
      "Values entered: [2.0, 2.0, 3.0, 4.0, 5.0]\n",
      "Average of values: 3.2\n"
     ]
    }
   ],
   "source": [
    "# Q6: \n",
    "\n",
    "values = []\n",
    "for i in range(5):\n",
    "    num = float(input(f\"Enter value {i+1}: \"))\n",
    "    values.append(num)\n",
    "\n",
    "average = sum(values) / len(values)\n",
    "print(\"Values entered:\", values)\n",
    "print(\"Average of values:\", average)\n"
   ]
  }
 ],
 "metadata": {
  "kernelspec": {
   "display_name": "Python 3",
   "language": "python",
   "name": "python3"
  },
  "language_info": {
   "codemirror_mode": {
    "name": "ipython",
    "version": 3
   },
   "file_extension": ".py",
   "mimetype": "text/x-python",
   "name": "python",
   "nbconvert_exporter": "python",
   "pygments_lexer": "ipython3",
   "version": "3.11.9"
  }
 },
 "nbformat": 4,
 "nbformat_minor": 5
}
